{
  "nbformat": 4,
  "nbformat_minor": 0,
  "metadata": {
    "colab": {
      "name": "Distill Blog.ipynb",
      "provenance": [],
      "collapsed_sections": [
        "jauacqoT3AfT",
        "Jbf4xgnOyCY0"
      ],
      "authorship_tag": "ABX9TyNNl9PkHL308TUrOydvhAG0",
      "include_colab_link": true
    },
    "kernelspec": {
      "name": "python3",
      "display_name": "Python 3"
    },
    "language_info": {
      "name": "python"
    }
  },
  "cells": [
    {
      "cell_type": "markdown",
      "metadata": {
        "id": "view-in-github",
        "colab_type": "text"
      },
      "source": [
        "<a href=\"https://colab.research.google.com/github/MosheWasserb/hello-world/blob/master/Distill_Blog.ipynb\" target=\"_parent\"><img src=\"https://colab.research.google.com/assets/colab-badge.svg\" alt=\"Open In Colab\"/></a>"
      ]
    },
    {
      "cell_type": "markdown",
      "metadata": {
        "id": "aATd_K3bFGps"
      },
      "source": [
        "## Init"
      ]
    },
    {
      "cell_type": "code",
      "metadata": {
        "colab": {
          "base_uri": "https://localhost:8080/"
        },
        "id": "KANQ9jKWFXmf",
        "outputId": "12c073b4-57c6-4abb-84b9-051e7e6c9204"
      },
      "source": [
        "# install ktrain on Google Colab\n",
        "!pip install ktrain"
      ],
      "execution_count": 74,
      "outputs": [
        {
          "output_type": "stream",
          "text": [
            "Requirement already satisfied: ktrain in /usr/local/lib/python3.7/dist-packages (0.26.2)\n",
            "Requirement already satisfied: fastprogress>=0.1.21 in /usr/local/lib/python3.7/dist-packages (from ktrain) (1.0.0)\n",
            "Requirement already satisfied: keras-bert>=0.86.0 in /usr/local/lib/python3.7/dist-packages (from ktrain) (0.86.0)\n",
            "Requirement already satisfied: requests in /usr/local/lib/python3.7/dist-packages (from ktrain) (2.23.0)\n",
            "Requirement already satisfied: scikit-learn==0.23.2 in /usr/local/lib/python3.7/dist-packages (from ktrain) (0.23.2)\n",
            "Requirement already satisfied: syntok in /usr/local/lib/python3.7/dist-packages (from ktrain) (1.3.1)\n",
            "Requirement already satisfied: seqeval==0.0.19 in /usr/local/lib/python3.7/dist-packages (from ktrain) (0.0.19)\n",
            "Requirement already satisfied: whoosh in /usr/local/lib/python3.7/dist-packages (from ktrain) (2.7.4)\n",
            "Requirement already satisfied: matplotlib>=3.0.0 in /usr/local/lib/python3.7/dist-packages (from ktrain) (3.2.2)\n",
            "Requirement already satisfied: cchardet in /usr/local/lib/python3.7/dist-packages (from ktrain) (2.1.7)\n",
            "Requirement already satisfied: langdetect in /usr/local/lib/python3.7/dist-packages (from ktrain) (1.0.8)\n",
            "Requirement already satisfied: pandas>=1.0.1 in /usr/local/lib/python3.7/dist-packages (from ktrain) (1.1.5)\n",
            "Requirement already satisfied: packaging in /usr/local/lib/python3.7/dist-packages (from ktrain) (20.9)\n",
            "Requirement already satisfied: networkx>=2.3 in /usr/local/lib/python3.7/dist-packages (from ktrain) (2.5)\n",
            "Requirement already satisfied: transformers<=4.3.3,>=4.0.0 in /usr/local/lib/python3.7/dist-packages (from ktrain) (4.3.3)\n",
            "Requirement already satisfied: joblib in /usr/local/lib/python3.7/dist-packages (from ktrain) (1.0.1)\n",
            "Requirement already satisfied: jieba in /usr/local/lib/python3.7/dist-packages (from ktrain) (0.42.1)\n",
            "Requirement already satisfied: sentencepiece in /usr/local/lib/python3.7/dist-packages (from ktrain) (0.1.95)\n",
            "Requirement already satisfied: ipython in /usr/local/lib/python3.7/dist-packages (from ktrain) (5.5.0)\n",
            "Requirement already satisfied: numpy in /usr/local/lib/python3.7/dist-packages (from fastprogress>=0.1.21->ktrain) (1.19.5)\n",
            "Requirement already satisfied: Keras>=2.4.3 in /usr/local/lib/python3.7/dist-packages (from keras-bert>=0.86.0->ktrain) (2.4.3)\n",
            "Requirement already satisfied: keras-transformer>=0.38.0 in /usr/local/lib/python3.7/dist-packages (from keras-bert>=0.86.0->ktrain) (0.38.0)\n",
            "Requirement already satisfied: chardet<4,>=3.0.2 in /usr/local/lib/python3.7/dist-packages (from requests->ktrain) (3.0.4)\n",
            "Requirement already satisfied: certifi>=2017.4.17 in /usr/local/lib/python3.7/dist-packages (from requests->ktrain) (2020.12.5)\n",
            "Requirement already satisfied: idna<3,>=2.5 in /usr/local/lib/python3.7/dist-packages (from requests->ktrain) (2.10)\n",
            "Requirement already satisfied: urllib3!=1.25.0,!=1.25.1,<1.26,>=1.21.1 in /usr/local/lib/python3.7/dist-packages (from requests->ktrain) (1.24.3)\n",
            "Requirement already satisfied: scipy>=0.19.1 in /usr/local/lib/python3.7/dist-packages (from scikit-learn==0.23.2->ktrain) (1.4.1)\n",
            "Requirement already satisfied: threadpoolctl>=2.0.0 in /usr/local/lib/python3.7/dist-packages (from scikit-learn==0.23.2->ktrain) (2.1.0)\n",
            "Requirement already satisfied: regex in /usr/local/lib/python3.7/dist-packages (from syntok->ktrain) (2019.12.20)\n",
            "Requirement already satisfied: kiwisolver>=1.0.1 in /usr/local/lib/python3.7/dist-packages (from matplotlib>=3.0.0->ktrain) (1.3.1)\n",
            "Requirement already satisfied: cycler>=0.10 in /usr/local/lib/python3.7/dist-packages (from matplotlib>=3.0.0->ktrain) (0.10.0)\n",
            "Requirement already satisfied: python-dateutil>=2.1 in /usr/local/lib/python3.7/dist-packages (from matplotlib>=3.0.0->ktrain) (2.8.1)\n",
            "Requirement already satisfied: pyparsing!=2.0.4,!=2.1.2,!=2.1.6,>=2.0.1 in /usr/local/lib/python3.7/dist-packages (from matplotlib>=3.0.0->ktrain) (2.4.7)\n",
            "Requirement already satisfied: six in /usr/local/lib/python3.7/dist-packages (from langdetect->ktrain) (1.15.0)\n",
            "Requirement already satisfied: pytz>=2017.2 in /usr/local/lib/python3.7/dist-packages (from pandas>=1.0.1->ktrain) (2018.9)\n",
            "Requirement already satisfied: decorator>=4.3.0 in /usr/local/lib/python3.7/dist-packages (from networkx>=2.3->ktrain) (4.4.2)\n",
            "Requirement already satisfied: importlib-metadata; python_version < \"3.8\" in /usr/local/lib/python3.7/dist-packages (from transformers<=4.3.3,>=4.0.0->ktrain) (3.8.1)\n",
            "Requirement already satisfied: sacremoses in /usr/local/lib/python3.7/dist-packages (from transformers<=4.3.3,>=4.0.0->ktrain) (0.0.44)\n",
            "Requirement already satisfied: tqdm>=4.27 in /usr/local/lib/python3.7/dist-packages (from transformers<=4.3.3,>=4.0.0->ktrain) (4.41.1)\n",
            "Requirement already satisfied: filelock in /usr/local/lib/python3.7/dist-packages (from transformers<=4.3.3,>=4.0.0->ktrain) (3.0.12)\n",
            "Requirement already satisfied: tokenizers<0.11,>=0.10.1 in /usr/local/lib/python3.7/dist-packages (from transformers<=4.3.3,>=4.0.0->ktrain) (0.10.2)\n",
            "Requirement already satisfied: traitlets>=4.2 in /usr/local/lib/python3.7/dist-packages (from ipython->ktrain) (5.0.5)\n",
            "Requirement already satisfied: simplegeneric>0.8 in /usr/local/lib/python3.7/dist-packages (from ipython->ktrain) (0.8.1)\n",
            "Requirement already satisfied: pexpect; sys_platform != \"win32\" in /usr/local/lib/python3.7/dist-packages (from ipython->ktrain) (4.8.0)\n",
            "Requirement already satisfied: pickleshare in /usr/local/lib/python3.7/dist-packages (from ipython->ktrain) (0.7.5)\n",
            "Requirement already satisfied: pygments in /usr/local/lib/python3.7/dist-packages (from ipython->ktrain) (2.6.1)\n",
            "Requirement already satisfied: prompt-toolkit<2.0.0,>=1.0.4 in /usr/local/lib/python3.7/dist-packages (from ipython->ktrain) (1.0.18)\n",
            "Requirement already satisfied: setuptools>=18.5 in /usr/local/lib/python3.7/dist-packages (from ipython->ktrain) (54.2.0)\n",
            "Requirement already satisfied: pyyaml in /usr/local/lib/python3.7/dist-packages (from Keras>=2.4.3->keras-bert>=0.86.0->ktrain) (3.13)\n",
            "Requirement already satisfied: h5py in /usr/local/lib/python3.7/dist-packages (from Keras>=2.4.3->keras-bert>=0.86.0->ktrain) (2.10.0)\n",
            "Requirement already satisfied: keras-multi-head>=0.27.0 in /usr/local/lib/python3.7/dist-packages (from keras-transformer>=0.38.0->keras-bert>=0.86.0->ktrain) (0.27.0)\n",
            "Requirement already satisfied: keras-position-wise-feed-forward>=0.6.0 in /usr/local/lib/python3.7/dist-packages (from keras-transformer>=0.38.0->keras-bert>=0.86.0->ktrain) (0.6.0)\n",
            "Requirement already satisfied: keras-embed-sim>=0.8.0 in /usr/local/lib/python3.7/dist-packages (from keras-transformer>=0.38.0->keras-bert>=0.86.0->ktrain) (0.8.0)\n",
            "Requirement already satisfied: keras-layer-normalization>=0.14.0 in /usr/local/lib/python3.7/dist-packages (from keras-transformer>=0.38.0->keras-bert>=0.86.0->ktrain) (0.14.0)\n",
            "Requirement already satisfied: keras-pos-embd>=0.11.0 in /usr/local/lib/python3.7/dist-packages (from keras-transformer>=0.38.0->keras-bert>=0.86.0->ktrain) (0.11.0)\n",
            "Requirement already satisfied: zipp>=0.5 in /usr/local/lib/python3.7/dist-packages (from importlib-metadata; python_version < \"3.8\"->transformers<=4.3.3,>=4.0.0->ktrain) (3.4.1)\n",
            "Requirement already satisfied: typing-extensions>=3.6.4; python_version < \"3.8\" in /usr/local/lib/python3.7/dist-packages (from importlib-metadata; python_version < \"3.8\"->transformers<=4.3.3,>=4.0.0->ktrain) (3.7.4.3)\n",
            "Requirement already satisfied: click in /usr/local/lib/python3.7/dist-packages (from sacremoses->transformers<=4.3.3,>=4.0.0->ktrain) (7.1.2)\n",
            "Requirement already satisfied: ipython-genutils in /usr/local/lib/python3.7/dist-packages (from traitlets>=4.2->ipython->ktrain) (0.2.0)\n",
            "Requirement already satisfied: ptyprocess>=0.5 in /usr/local/lib/python3.7/dist-packages (from pexpect; sys_platform != \"win32\"->ipython->ktrain) (0.7.0)\n",
            "Requirement already satisfied: wcwidth in /usr/local/lib/python3.7/dist-packages (from prompt-toolkit<2.0.0,>=1.0.4->ipython->ktrain) (0.2.5)\n",
            "Requirement already satisfied: keras-self-attention==0.46.0 in /usr/local/lib/python3.7/dist-packages (from keras-multi-head>=0.27.0->keras-transformer>=0.38.0->keras-bert>=0.86.0->ktrain) (0.46.0)\n"
          ],
          "name": "stdout"
        }
      ]
    },
    {
      "cell_type": "code",
      "metadata": {
        "colab": {
          "base_uri": "https://localhost:8080/"
        },
        "id": "9gTGIOjkqmMB",
        "outputId": "d6ca872b-3d06-4dec-ec11-a0ac351231fb"
      },
      "source": [
        "!nvidia-smi"
      ],
      "execution_count": 70,
      "outputs": [
        {
          "output_type": "stream",
          "text": [
            "NVIDIA-SMI has failed because it couldn't communicate with the NVIDIA driver. Make sure that the latest NVIDIA driver is installed and running.\n",
            "\n"
          ],
          "name": "stdout"
        }
      ]
    },
    {
      "cell_type": "code",
      "metadata": {
        "colab": {
          "base_uri": "https://localhost:8080/"
        },
        "id": "zGl9AwhhFYci",
        "outputId": "f0acecd8-3254-4421-b806-646ae533c611"
      },
      "source": [
        "import torch\n",
        "\n",
        "# If there's a GPU available...\n",
        "if torch.cuda.is_available():    \n",
        "\n",
        "    # Tell PyTorch to use the GPU.    \n",
        "    device = torch.device(\"cuda\")\n",
        "\n",
        "    print('There are %d GPU(s) available.' % torch.cuda.device_count())\n",
        "\n",
        "    print('We will use the GPU:', torch.cuda.get_device_name(0))\n",
        "\n",
        "# If not...\n",
        "else:\n",
        "    print('No GPU available, using the CPU instead.')\n",
        "    device = torch.device(\"cpu\")"
      ],
      "execution_count": 75,
      "outputs": [
        {
          "output_type": "stream",
          "text": [
            "No GPU available, using the CPU instead.\n"
          ],
          "name": "stdout"
        }
      ]
    },
    {
      "cell_type": "code",
      "metadata": {
        "colab": {
          "background_save": true,
          "base_uri": "https://localhost:8080/"
        },
        "id": "wRGoAvODFh8q",
        "outputId": "68bd8f29-9b24-4d09-c354-4c135a68f20f"
      },
      "source": [
        "### read data from your Google Drive\n",
        "from google.colab import drive\n",
        "drive.mount('/gdrive')"
      ],
      "execution_count": null,
      "outputs": [
        {
          "output_type": "stream",
          "text": [
            "Mounted at /gdrive\n"
          ],
          "name": "stdout"
        }
      ]
    },
    {
      "cell_type": "code",
      "metadata": {
        "id": "Ae7OUPKrFk9o"
      },
      "source": [
        "# import ktrain and the ktrain.text modules\n",
        "import ktrain\n",
        "from ktrain import text\n",
        "import pandas as pd\n",
        "import numpy as np\n",
        "\n",
        "from sklearn.pipeline import make_pipeline\n",
        "from sklearn.feature_extraction.text import TfidfVectorizer, CountVectorizer\n",
        "from sklearn.linear_model import LogisticRegression, SGDClassifier\n",
        "from sklearn.metrics import accuracy_score, matthews_corrcoef\n",
        "from sklearn.metrics import classification_report\n",
        "from sklearn.preprocessing import StandardScaler"
      ],
      "execution_count": 76,
      "outputs": []
    },
    {
      "cell_type": "code",
      "metadata": {
        "id": "dZw9CH0UTu7-"
      },
      "source": [
        "import random\n",
        "import torch\n",
        "\n",
        "def set_seed(seed):\n",
        "  random.seed(seed)\n",
        "  np.random.seed(seed)\n",
        "  torch.manual_seed(seed)\n",
        "  if torch.cuda.is_available():\n",
        "    torch.cuda.manual_seed_all(seed)"
      ],
      "execution_count": null,
      "outputs": []
    },
    {
      "cell_type": "markdown",
      "metadata": {
        "id": "jauacqoT3AfT"
      },
      "source": [
        "# Blog 1/1"
      ]
    },
    {
      "cell_type": "markdown",
      "metadata": {
        "id": "LRqPNwPekdpF"
      },
      "source": [
        "Load emotion dataset"
      ]
    },
    {
      "cell_type": "code",
      "metadata": {
        "colab": {
          "base_uri": "https://localhost:8080/"
        },
        "id": "V_daxNdPkkjT",
        "outputId": "65315416-910b-4cb3-98c2-f11dae6b15a2"
      },
      "source": [
        "!pip install datasets\n",
        "from datasets import load_dataset\n",
        "emotion_dataset = load_dataset('emotion')\n",
        "\n",
        "train_df = pd.DataFrame(list(zip(emotion_dataset['train']['text'], emotion_dataset['train']['label'])), \n",
        "               columns =['text', 'label'])\n",
        "\n",
        "test_df = pd.DataFrame(list(zip(emotion_dataset['test']['text'], emotion_dataset['test']['label'])), \n",
        "               columns =['text', 'label'])\n",
        "\n",
        "\n",
        "x_train = train_df.text.values\n",
        "y_train = train_df.label.values\n",
        "\n",
        "x_test =  test_df.text.values\n",
        "y_test = test_df.label.values\n",
        "\n",
        "value2hot = {\n",
        "  0: [1,0,0,0,0,0],\n",
        "  1: [0,1,0,0,0,0],\n",
        "  2: [0,0,1,0,0,0],\n",
        "  3: [0,0,0,1,0,0],\n",
        "  4: [0,0,0,0,1,0],\n",
        "  5: [0,0,0,0,0,1]\n",
        "}\n",
        "\n",
        "y_train_hotvec = np.array([value2hot[l] for l in y_train])"
      ],
      "execution_count": 99,
      "outputs": [
        {
          "output_type": "stream",
          "text": [
            "Requirement already satisfied: datasets in /usr/local/lib/python3.7/dist-packages (1.5.0)\n",
            "Requirement already satisfied: xxhash in /usr/local/lib/python3.7/dist-packages (from datasets) (2.0.0)\n",
            "Requirement already satisfied: importlib-metadata; python_version < \"3.8\" in /usr/local/lib/python3.7/dist-packages (from datasets) (3.8.1)\n",
            "Requirement already satisfied: multiprocess in /usr/local/lib/python3.7/dist-packages (from datasets) (0.70.11.1)\n",
            "Requirement already satisfied: requests>=2.19.0 in /usr/local/lib/python3.7/dist-packages (from datasets) (2.23.0)\n",
            "Requirement already satisfied: dill in /usr/local/lib/python3.7/dist-packages (from datasets) (0.3.3)\n",
            "Requirement already satisfied: numpy>=1.17 in /usr/local/lib/python3.7/dist-packages (from datasets) (1.19.5)\n",
            "Requirement already satisfied: huggingface-hub<0.1.0 in /usr/local/lib/python3.7/dist-packages (from datasets) (0.0.7)\n",
            "Requirement already satisfied: tqdm<4.50.0,>=4.27 in /usr/local/lib/python3.7/dist-packages (from datasets) (4.41.1)\n",
            "Requirement already satisfied: fsspec in /usr/local/lib/python3.7/dist-packages (from datasets) (0.9.0)\n",
            "Requirement already satisfied: pandas in /usr/local/lib/python3.7/dist-packages (from datasets) (1.1.5)\n",
            "Requirement already satisfied: pyarrow>=0.17.1 in /usr/local/lib/python3.7/dist-packages (from datasets) (3.0.0)\n",
            "Requirement already satisfied: zipp>=0.5 in /usr/local/lib/python3.7/dist-packages (from importlib-metadata; python_version < \"3.8\"->datasets) (3.4.1)\n",
            "Requirement already satisfied: typing-extensions>=3.6.4; python_version < \"3.8\" in /usr/local/lib/python3.7/dist-packages (from importlib-metadata; python_version < \"3.8\"->datasets) (3.7.4.3)\n",
            "Requirement already satisfied: certifi>=2017.4.17 in /usr/local/lib/python3.7/dist-packages (from requests>=2.19.0->datasets) (2020.12.5)\n",
            "Requirement already satisfied: urllib3!=1.25.0,!=1.25.1,<1.26,>=1.21.1 in /usr/local/lib/python3.7/dist-packages (from requests>=2.19.0->datasets) (1.24.3)\n",
            "Requirement already satisfied: chardet<4,>=3.0.2 in /usr/local/lib/python3.7/dist-packages (from requests>=2.19.0->datasets) (3.0.4)\n",
            "Requirement already satisfied: idna<3,>=2.5 in /usr/local/lib/python3.7/dist-packages (from requests>=2.19.0->datasets) (2.10)\n",
            "Requirement already satisfied: filelock in /usr/local/lib/python3.7/dist-packages (from huggingface-hub<0.1.0->datasets) (3.0.12)\n",
            "Requirement already satisfied: python-dateutil>=2.7.3 in /usr/local/lib/python3.7/dist-packages (from pandas->datasets) (2.8.1)\n",
            "Requirement already satisfied: pytz>=2017.2 in /usr/local/lib/python3.7/dist-packages (from pandas->datasets) (2018.9)\n",
            "Requirement already satisfied: six>=1.5 in /usr/local/lib/python3.7/dist-packages (from python-dateutil>=2.7.3->pandas->datasets) (1.15.0)\n"
          ],
          "name": "stdout"
        },
        {
          "output_type": "stream",
          "text": [
            "Using custom data configuration default\n",
            "Reusing dataset emotion (/root/.cache/huggingface/datasets/emotion/default/0.0.0/aa34462255cd487d04be8387a2d572588f6ceee23f784f37365aa714afeb8fe6)\n"
          ],
          "name": "stderr"
        }
      ]
    },
    {
      "cell_type": "markdown",
      "metadata": {
        "id": "faeIjqd_3cqA"
      },
      "source": [
        "1st  step: Set a baseline using a logistic regression model (TfIdf based)"
      ]
    },
    {
      "cell_type": "code",
      "metadata": {
        "colab": {
          "base_uri": "https://localhost:8080/"
        },
        "id": "u3W4BNt73iFR",
        "outputId": "be1669fd-03f6-4b2e-9103-7bb01ca14b41"
      },
      "source": [
        "model = make_pipeline(TfidfVectorizer(ngram_range=(1,1)), LogisticRegression(max_iter=200)).fit(x_train, y_train)\n",
        "predicted = model.predict(x_test)\n",
        "print(accuracy_score(y_test, predicted))\n",
        "print(matthews_corrcoef(y_test, predicted))\n",
        "print(classification_report(y_test, predicted))"
      ],
      "execution_count": 100,
      "outputs": [
        {
          "output_type": "stream",
          "text": [
            "0.861\n",
            "0.8145907734621154\n",
            "              precision    recall  f1-score   support\n",
            "\n",
            "           0       0.89      0.93      0.91       581\n",
            "           1       0.83      0.96      0.89       695\n",
            "           2       0.82      0.58      0.68       159\n",
            "           3       0.90      0.81      0.85       275\n",
            "           4       0.87      0.78      0.82       224\n",
            "           5       0.84      0.47      0.60        66\n",
            "\n",
            "    accuracy                           0.86      2000\n",
            "   macro avg       0.86      0.75      0.79      2000\n",
            "weighted avg       0.86      0.86      0.86      2000\n",
            "\n"
          ],
          "name": "stdout"
        }
      ]
    },
    {
      "cell_type": "markdown",
      "metadata": {
        "id": "N95ANIJV6xr2"
      },
      "source": [
        "2nd step: Deep Learning baseline"
      ]
    },
    {
      "cell_type": "code",
      "metadata": {
        "id": "XfFFUDHKETzX"
      },
      "source": [
        "NUM_CLASS = 6\n",
        "MAX_NUM_WORDS = 5000\n",
        "MAX_LEN = 64 \n",
        "EPOCHS = 15"
      ],
      "execution_count": 101,
      "outputs": []
    },
    {
      "cell_type": "code",
      "metadata": {
        "id": "Mz7nExf_Ic1j"
      },
      "source": [
        "from keras.preprocessing.text import Tokenizer\n",
        "from keras.preprocessing.sequence import pad_sequences\n",
        "from keras.layers import Embedding, GlobalAveragePooling1D, GlobalMaxPool1D, GlobalMaxPooling1D, Dense, Input, Conv1D, MaxPooling1D, Dropout, Bidirectional, LSTM, Concatenate, Flatten\n",
        "from keras.initializers import Constant\n",
        "from keras.models import Sequential, Model, load_model\n",
        "from keras.callbacks import EarlyStopping, ModelCheckpoint\n",
        "from sklearn.metrics import accuracy_score, f1_score, classification_report\n",
        "from matplotlib import pyplot as plt\n",
        "import tensorflow as tf"
      ],
      "execution_count": 102,
      "outputs": []
    },
    {
      "cell_type": "code",
      "metadata": {
        "id": "RHEhoGyWHfj2"
      },
      "source": [
        "# Tokenization Option A\n",
        "oov_token = '<UNK>'\n",
        "pad_type = 'post'\n",
        "trunc_type = 'post'\n",
        "\n",
        "# Avoid UNK words \n",
        "X = np.concatenate((x_train, x_test), axis=0)\n",
        "\n",
        "# Tokenize our training data\n",
        "tokenizer = Tokenizer(num_words=MAX_NUM_WORDS)\n",
        "tokenizer.fit_on_texts(X)\n",
        "\n",
        "# Get our training data word index\n",
        "word_index = tokenizer.word_index\n",
        "\n",
        "# Encode training data sentences into sequences\n",
        "train_sequences = tokenizer.texts_to_sequences(x_train)\n",
        "\n",
        "# Get max training sequence length\n",
        "  #maxlen = min(max_len_const, max([len(x) for x in train_sequences]))\n",
        "maxlen = MAX_LEN\n",
        "\n",
        "# Pad the training sequences\n",
        "train_padded = pad_sequences(train_sequences, padding=pad_type, truncating=trunc_type, maxlen=maxlen)\n",
        "\n",
        "# Encode test data sentences into sequences\n",
        "test_sequences = tokenizer.texts_to_sequences(x_test)\n",
        "test_padded = pad_sequences(test_sequences, padding=pad_type, truncating=trunc_type, maxlen=maxlen)"
      ],
      "execution_count": 82,
      "outputs": []
    },
    {
      "cell_type": "code",
      "metadata": {
        "id": "ACkyz6Y7Gj-6"
      },
      "source": [
        "# Tokenization Option B\n",
        "oov_token = '<UNK>'\n",
        "pad_type = 'post'\n",
        "trunc_type = 'post'\n",
        "\n",
        "# Tokenize our training data\n",
        "tokenizer = Tokenizer(num_words=MAX_NUM_WORDS, oov_token = '<UNK>')\n",
        "tokenizer.fit_on_texts(x_train)\n",
        "\n",
        "# Encode training data sentences into sequences\n",
        "train_sequences = tokenizer.texts_to_sequences(x_train)\n",
        "\n",
        "# Pad the training sequences\n",
        "train_padded = pad_sequences(train_sequences, padding=pad_type, truncating=trunc_type, maxlen=maxlen)\n",
        "\n",
        "# Encode test data sentences into sequences\n",
        "test_sequences = tokenizer.texts_to_sequences(x_test)\n",
        "\n",
        "# Pad the training sequences\n",
        "test_padded = pad_sequences(test_sequences, padding=pad_type, truncating=trunc_type, maxlen=maxlen)\n"
      ],
      "execution_count": 128,
      "outputs": []
    },
    {
      "cell_type": "code",
      "metadata": {
        "id": "iBfB36JWeg2p"
      },
      "source": [
        "from tensorflow.keras import layers\n",
        "\n",
        "class Attention(layers.Layer):\n",
        "    def __init__(self, units):\n",
        "        super(Attention, self).__init__()\n",
        "        self.units = units\n",
        "        self.W1 = Dense(units)\n",
        "        self.V = Dense(1)\n",
        "\n",
        "    def get_config(self):\n",
        "        return {\"units\": self.units}\n",
        " \n",
        "    def call(self, features):\n",
        "        score = tf.nn.tanh(self.W1(features))\n",
        "        attention_weights = tf.nn.softmax(self.V(score), axis=1)\n",
        "        context_vector = attention_weights * features\n",
        "        context_vector = tf.reduce_sum(context_vector, axis=1)\n",
        " \n",
        "        return context_vector, attention_weights"
      ],
      "execution_count": 90,
      "outputs": []
    },
    {
      "cell_type": "code",
      "metadata": {
        "id": "afBmfqzKccCh"
      },
      "source": [
        "# Model MLP_Attn  \n",
        "embedding_layer = Embedding(MAX_NUM_WORDS,\n",
        "                            output_dim=16,\n",
        "                            embeddings_initializer='uniform',\n",
        "                            input_length=MAX_LEN,\n",
        "                            trainable=True)\n",
        "\n",
        "sequence_input = Input(shape=(MAX_LEN,), dtype='int32')\n",
        "embedded_sequences = embedding_layer(sequence_input)\n",
        "context_vector, attention_weights = Attention(8)(embedded_sequences)\n",
        "\n",
        "dense1 = Dense(16, activation=\"relu\")(context_vector)\n",
        "dropout = Dropout(0.05)(dense1)\n",
        "preds = Dense(NUM_CLASS, activation='softmax')((dropout))\n",
        "model = Model(sequence_input, preds)\n",
        "\n",
        "model.compile(optimizer='adam', loss='KLD',metrics=['accuracy'])"
      ],
      "execution_count": 129,
      "outputs": []
    },
    {
      "cell_type": "code",
      "metadata": {
        "colab": {
          "base_uri": "https://localhost:8080/"
        },
        "id": "vppK_vgmqxnm",
        "outputId": "8689ab37-106a-4c4e-c34c-1129eeb4542f"
      },
      "source": [
        "model.summary()"
      ],
      "execution_count": 130,
      "outputs": [
        {
          "output_type": "stream",
          "text": [
            "Model: \"model_13\"\n",
            "_________________________________________________________________\n",
            "Layer (type)                 Output Shape              Param #   \n",
            "=================================================================\n",
            "input_14 (InputLayer)        [(None, 64)]              0         \n",
            "_________________________________________________________________\n",
            "embedding_17 (Embedding)     (None, 64, 16)            80000     \n",
            "_________________________________________________________________\n",
            "attention_26 (Attention)     ((None, 16), (None, 64, 1 145       \n",
            "_________________________________________________________________\n",
            "dense_88 (Dense)             (None, 16)                272       \n",
            "_________________________________________________________________\n",
            "dropout_13 (Dropout)         (None, 16)                0         \n",
            "_________________________________________________________________\n",
            "dense_89 (Dense)             (None, 6)                 102       \n",
            "=================================================================\n",
            "Total params: 80,519\n",
            "Trainable params: 80,519\n",
            "Non-trainable params: 0\n",
            "_________________________________________________________________\n"
          ],
          "name": "stdout"
        }
      ]
    },
    {
      "cell_type": "code",
      "metadata": {
        "colab": {
          "base_uri": "https://localhost:8080/"
        },
        "id": "QwKlGofwLrgX",
        "outputId": "eb97ee73-43df-467e-a052-845c6477eac7"
      },
      "source": [
        "callbacks_list = [\n",
        "    ModelCheckpoint(\n",
        "        filepath='best_model.h5',\n",
        "        monitor='val_accuracy', mode='max', save_best_only=True, verbose=0),\n",
        "    EarlyStopping(monitor='val_loss', mode='min', verbose=1, patience=10)]\n",
        "\n",
        "custom_objects = {\"Attention\": Attention}\n",
        "\n",
        "history = model.fit(\n",
        "  train_padded,\n",
        "  y_train_hotvec,  \n",
        "  epochs=EPOCHS,\n",
        "  batch_size=512,\n",
        "  validation_split=0.1,\n",
        "  shuffle=True,\n",
        "  verbose=0,\n",
        "  callbacks=callbacks_list)\n",
        "  \n",
        "saved_model = load_model('best_model.h5', custom_objects)\n",
        "logits_pred = saved_model.predict(test_padded, batch_size=64, verbose=1)\n",
        "y_pred_bool = np.argmax(logits_pred, axis=1)\n"
      ],
      "execution_count": 131,
      "outputs": [
        {
          "output_type": "stream",
          "text": [
            "32/32 [==============================] - 0s 1ms/step\n"
          ],
          "name": "stdout"
        }
      ]
    },
    {
      "cell_type": "code",
      "metadata": {
        "colab": {
          "base_uri": "https://localhost:8080/"
        },
        "id": "ixGS2gBRNC8R",
        "outputId": "6a6f5cd2-df6f-44a0-bf6a-c9e396bcab2d"
      },
      "source": [
        "print(accuracy_score(y_test, y_pred_bool))\n",
        "print(classification_report(y_test, y_pred_bool))"
      ],
      "execution_count": 132,
      "outputs": [
        {
          "output_type": "stream",
          "text": [
            "0.901\n",
            "              precision    recall  f1-score   support\n",
            "\n",
            "           0       0.95      0.93      0.94       581\n",
            "           1       0.92      0.93      0.92       695\n",
            "           2       0.79      0.78      0.78       159\n",
            "           3       0.89      0.90      0.89       275\n",
            "           4       0.87      0.91      0.89       224\n",
            "           5       0.69      0.62      0.66        66\n",
            "\n",
            "    accuracy                           0.90      2000\n",
            "   macro avg       0.85      0.85      0.85      2000\n",
            "weighted avg       0.90      0.90      0.90      2000\n",
            "\n"
          ],
          "name": "stdout"
        }
      ]
    },
    {
      "cell_type": "code",
      "metadata": {
        "colab": {
          "base_uri": "https://localhost:8080/",
          "height": 295
        },
        "id": "DDoDWllYNKiE",
        "outputId": "5944fe2d-a1eb-42f9-856f-45afb50270d3"
      },
      "source": [
        "# Plot the training and validation accuracu and loss at each epoch\n",
        "loss = history.history['loss']\n",
        "val_loss = history.history['val_loss']\n",
        "epochs = range(1, len(loss) + 1)\n",
        "plt.plot(epochs, loss, 'y', label='Training loss')\n",
        "plt.plot(epochs, val_loss, 'r', label='Validation loss')\n",
        "plt.title('Training and validation loss')\n",
        "plt.xlabel('Epochs')\n",
        "plt.ylabel('Loss')\n",
        "plt.legend()\n",
        "plt.show()"
      ],
      "execution_count": 93,
      "outputs": [
        {
          "output_type": "display_data",
          "data": {
            "image/png": "[encoded data removed]",
            "text/plain": [
              "<Figure size 432x288 with 1 Axes>"
            ]
          },
          "metadata": {
            "tags": [],
            "needs_background": "light"
          }
        }
      ]
    },
    {
      "cell_type": "code",
      "metadata": {
        "colab": {
          "base_uri": "https://localhost:8080/",
          "height": 295
        },
        "id": "z0J9TYb0NMZ9",
        "outputId": "311042eb-8b63-4414-ea15-1d5ec9f3a7c7"
      },
      "source": [
        "acc = history.history['accuracy']\n",
        "val_acc = history.history['val_accuracy']\n",
        "plt.plot(epochs, acc, 'y', label='Training acc')\n",
        "plt.plot(epochs, val_acc, 'r', label='Validation acc')\n",
        "plt.title('Training and validation accuracy')\n",
        "plt.xlabel('Epochs')\n",
        "plt.ylabel('Accuracy')\n",
        "plt.legend()\n",
        "plt.show()"
      ],
      "execution_count": 94,
      "outputs": [
        {
          "output_type": "display_data",
          "data": {
            "image/png": "[encoded data removed]",
            "text/plain": [
              "<Figure size 432x288 with 1 Axes>"
            ]
          },
          "metadata": {
            "tags": [],
            "needs_background": "light"
          }
        }
      ]
    },
    {
      "cell_type": "markdown",
      "metadata": {
        "id": "XaokxRyv624r"
      },
      "source": [
        "3rd step: Transformers models "
      ]
    },
    {
      "cell_type": "code",
      "metadata": {
        "id": "Ncl8sqnT8fWr"
      },
      "source": [
        "categories = ['0','1','2','3','4','5']"
      ],
      "execution_count": 133,
      "outputs": []
    },
    {
      "cell_type": "code",
      "metadata": {
        "id": "DcGMqN2v9Y4W"
      },
      "source": [
        "MODEL_NAME = 'bert-base-uncased'    # Select from HuggigFace model Hub \n",
        "t = text.Transformer(MODEL_NAME, maxlen=64, class_names=categories)   # maxlen: emotion = 64, SST-2 = 64\n",
        "trn = t.preprocess_train(x_train, y_train)\n",
        "val = t.preprocess_test(x_test, y_test)\n",
        "model = t.get_classifier()\n",
        "learner = ktrain.get_learner(model, train_data=trn, val_data=val, batch_size=32) # lower bs if OOM occurs\n",
        "learner.fit_onecycle(2e-5, 2)"
      ],
      "execution_count": null,
      "outputs": []
    },
    {
      "cell_type": "markdown",
      "metadata": {
        "id": "rMSvAvVD-ryq"
      },
      "source": [
        "4th step: DistillBERT"
      ]
    },
    {
      "cell_type": "code",
      "metadata": {
        "id": "xl74FA2a-4KL"
      },
      "source": [
        "MODEL_NAME = 'distilbert-base-uncased'    # Select from HuggigFace model Hub \n",
        "t = text.Transformer(MODEL_NAME, maxlen=64, class_names=categories)   # maxlen: emotion = 64, SST-2 = 64\n",
        "trn = t.preprocess_train(x_train, y_train)\n",
        "val = t.preprocess_test(x_test, y_test)\n",
        "model = t.get_classifier()\n",
        "learner = ktrain.get_learner(model, train_data=trn, val_data=val, batch_size=32) # lower bs if OOM occurs\n",
        "learner.fit_onecycle(2e-5, 2)"
      ],
      "execution_count": null,
      "outputs": []
    },
    {
      "cell_type": "markdown",
      "metadata": {
        "id": "6FOEFPF2-9j2"
      },
      "source": [
        "5th: Distill Roberta to a simpler student\n"
      ]
    },
    {
      "cell_type": "code",
      "metadata": {
        "id": "8snFEzg_o8DC"
      },
      "source": [
        "MODEL_NAME = 'roberta-base'    # Select from HuggigFace model Hub \n",
        "t = text.Transformer(MODEL_NAME, maxlen=64, class_names=categories)   # maxlen: emotion = 64, SST-2 = 64\n",
        "trn = t.preprocess_train(x_train, y_train)\n",
        "val = t.preprocess_test(x_test, y_test)\n",
        "model = t.get_classifier()\n",
        "learner = ktrain.get_learner(model, train_data=trn, val_data=val, batch_size=32) # lower bs if OOM occurs\n",
        "learner.fit_onecycle(2e-5, 2)"
      ],
      "execution_count": null,
      "outputs": []
    },
    {
      "cell_type": "code",
      "metadata": {
        "id": "JfC5kBOfpNHp"
      },
      "source": [
        "# Load augmented data (un-labeled)\n",
        "aug_df = pd.read_csv('/gdrive/My Drive/DataSet/ED6/data_augmentation_ED6.csv')    # Provide augmented data file \n",
        "x_aug = aug_df.text.values"
      ],
      "execution_count": null,
      "outputs": []
    },
    {
      "cell_type": "code",
      "metadata": {
        "id": "820uGKsopV3A"
      },
      "source": [
        "# Psedu-label the aug data with RoBERTa\n",
        "predictor = ktrain.get_predictor(learner.model, preproc, batch_size=64)\n",
        "y_aug_hotvec = predictor.predict_proba(x_aug)"
      ],
      "execution_count": null,
      "outputs": []
    },
    {
      "cell_type": "code",
      "metadata": {
        "id": "eY_PcL9_pdok"
      },
      "source": [
        "# Distill to MLP_Attn \n",
        "callbacks_list = [\n",
        "    ModelCheckpoint(\n",
        "        filepath='best_model.h5',\n",
        "        monitor='val_accuracy', mode='max', save_best_only=True, verbose=0),\n",
        "    EarlyStopping(monitor='val_loss', mode='min', verbose=1, patience=10)]\n",
        "\n",
        "custom_objects = {\"Attention\": Attention}\n",
        "\n",
        "history = model.fit(\n",
        "  aug_padded,\n",
        "  y_aug_hotvec,  \n",
        "  epochs=EPOCHS,\n",
        "  batch_size=512,\n",
        "  validation_split=0.1,\n",
        "  shuffle=True,\n",
        "  verbose=0,\n",
        "  callbacks=callbacks_list)\n",
        "  \n",
        "saved_model = load_model('best_model.h5', custom_objects)\n",
        "logits_pred = saved_model.predict(test_padded, batch_size=64, verbose=1)\n",
        "y_pred_bool = np.argmax(logits_pred, axis=1)"
      ],
      "execution_count": null,
      "outputs": []
    },
    {
      "cell_type": "code",
      "metadata": {
        "id": "I-n1041CpyR_"
      },
      "source": [
        "# Evaluation \n",
        "print(accuracy_score(y_test, y_pred_bool))\n",
        "print(classification_report(y_test, y_pred_bool))"
      ],
      "execution_count": null,
      "outputs": []
    },
    {
      "cell_type": "markdown",
      "metadata": {
        "id": "Jbf4xgnOyCY0"
      },
      "source": [
        "# Blog 2/3"
      ]
    },
    {
      "cell_type": "markdown",
      "metadata": {
        "id": "1kj6L1oiyCY5"
      },
      "source": [
        "Load SST2 dataset"
      ]
    },
    {
      "cell_type": "code",
      "metadata": {
        "id": "xznv4otKyCY6"
      },
      "source": [
        "train_df = pd.read_csv('https://github.com/clairett/pytorch-sentiment-classification/raw/master/data/SST2/train.tsv', delimiter='\\t', header=None)\n",
        "\n",
        "test_df = pd.read_csv('https://github.com/clairett/pytorch-sentiment-classification/raw/master/data/SST2/test.tsv', delimiter='\\t', header=None)\n",
        "\n",
        "text=train_df.columns.values[0] \n",
        "label=train_df.columns.values[1]\n",
        "\n",
        "x_train = train_df[text].values\n",
        "y_train = train_df[label].values\n",
        "\n",
        "x_test =  test_df[text].values\n",
        "y_test = test_df[label].values\n",
        "\n",
        "value2hot = {\n",
        "  0: [1,0,],\n",
        "  1: [0,1]\n",
        "}\n",
        "\n",
        "y_train_hotvec = np.array([value2hot[l] for l in y_train])"
      ],
      "execution_count": 135,
      "outputs": []
    },
    {
      "cell_type": "markdown",
      "metadata": {
        "id": "M5H9tqVhyCY6"
      },
      "source": [
        "1st  step: Set a baseline using a logistic regression model (TfIdf based)"
      ]
    },
    {
      "cell_type": "code",
      "metadata": {
        "colab": {
          "base_uri": "https://localhost:8080/"
        },
        "id": "8OpbE87ayCY6",
        "outputId": "bed5aa4e-7076-45e3-d502-4550cc174c8f"
      },
      "source": [
        "model = make_pipeline(TfidfVectorizer(ngram_range=(1,1)), LogisticRegression(max_iter=200)).fit(x_train, y_train)\n",
        "predicted = model.predict(x_test)\n",
        "print(accuracy_score(y_test, predicted))\n",
        "print(matthews_corrcoef(y_test, predicted))\n",
        "print(classification_report(y_test, predicted))"
      ],
      "execution_count": 136,
      "outputs": [
        {
          "output_type": "stream",
          "text": [
            "0.7913234486545854\n",
            "0.5838751598218017\n",
            "              precision    recall  f1-score   support\n",
            "\n",
            "           0       0.81      0.76      0.78       912\n",
            "           1       0.77      0.82      0.80       909\n",
            "\n",
            "    accuracy                           0.79      1821\n",
            "   macro avg       0.79      0.79      0.79      1821\n",
            "weighted avg       0.79      0.79      0.79      1821\n",
            "\n"
          ],
          "name": "stdout"
        }
      ]
    },
    {
      "cell_type": "markdown",
      "metadata": {
        "id": "tETbFtBzyCY7"
      },
      "source": [
        "2nd step: Deep Learning baseline"
      ]
    },
    {
      "cell_type": "code",
      "metadata": {
        "id": "tufYL_hHyCY7"
      },
      "source": [
        "NUM_CLASS = 2\n",
        "MAX_NUM_WORDS = 15000\n",
        "MAX_LEN = 64 \n",
        "EPOCHS = 5\n",
        "EMBEDDING_DIM=100"
      ],
      "execution_count": 154,
      "outputs": []
    },
    {
      "cell_type": "code",
      "metadata": {
        "id": "oAecHsTByCY8"
      },
      "source": [
        "from keras.preprocessing.text import Tokenizer\n",
        "from keras.preprocessing.sequence import pad_sequences\n",
        "from keras.layers import Embedding, GlobalAveragePooling1D, GlobalMaxPool1D, GlobalMaxPooling1D, Dense, Input, Conv1D, MaxPooling1D, Dropout, Bidirectional, LSTM, Concatenate, Flatten\n",
        "from keras.initializers import Constant\n",
        "from keras.models import Sequential, Model, load_model\n",
        "from keras.callbacks import EarlyStopping, ModelCheckpoint\n",
        "from sklearn.metrics import accuracy_score, f1_score, classification_report\n",
        "from matplotlib import pyplot as plt\n",
        "import tensorflow as tf"
      ],
      "execution_count": 152,
      "outputs": []
    },
    {
      "cell_type": "code",
      "metadata": {
        "id": "rPPrfqvZyCY8"
      },
      "source": [
        "# Tokenization Option B\n",
        "oov_token = '<UNK>'\n",
        "pad_type = 'post'\n",
        "trunc_type = 'post'\n",
        "\n",
        "# Tokenize our training data\n",
        "tokenizer = Tokenizer(num_words=MAX_NUM_WORDS, oov_token = '<UNK>')\n",
        "tokenizer.fit_on_texts(x_train)\n",
        "\n",
        "# Encode training data sentences into sequences\n",
        "train_sequences = tokenizer.texts_to_sequences(x_train)\n",
        "\n",
        "# Pad the training sequences\n",
        "train_padded = pad_sequences(train_sequences, padding=pad_type, truncating=trunc_type, maxlen=maxlen)\n",
        "\n",
        "# Encode test data sentences into sequences\n",
        "test_sequences = tokenizer.texts_to_sequences(x_test)\n",
        "\n",
        "# Pad the training sequences\n",
        "test_padded = pad_sequences(test_sequences, padding=pad_type, truncating=trunc_type, maxlen=maxlen)"
      ],
      "execution_count": 153,
      "outputs": []
    },
    {
      "cell_type": "code",
      "metadata": {
        "id": "DGZpPKhTyCY8"
      },
      "source": [
        "from tensorflow.keras import layers\n",
        "\n",
        "class Attention(layers.Layer):\n",
        "    def __init__(self, units):\n",
        "        super(Attention, self).__init__()\n",
        "        self.units = units\n",
        "        self.W1 = Dense(units)\n",
        "        self.V = Dense(1)\n",
        "\n",
        "    def get_config(self):\n",
        "        return {\"units\": self.units}\n",
        " \n",
        "    def call(self, features):\n",
        "        score = tf.nn.tanh(self.W1(features))\n",
        "        attention_weights = tf.nn.softmax(self.V(score), axis=1)\n",
        "        context_vector = attention_weights * features\n",
        "        context_vector = tf.reduce_sum(context_vector, axis=1)\n",
        " \n",
        "        return context_vector, attention_weights"
      ],
      "execution_count": 143,
      "outputs": []
    },
    {
      "cell_type": "code",
      "metadata": {
        "id": "WbYlv4goyCY9"
      },
      "source": [
        "# Model MLP_Attn  \n",
        "embedding_layer = Embedding(MAX_NUM_WORDS,\n",
        "                            output_dim=16,\n",
        "                            embeddings_initializer='uniform',\n",
        "                            input_length=MAX_LEN,\n",
        "                            trainable=True)\n",
        "\n",
        "sequence_input = Input(shape=(MAX_LEN,), dtype='int32')\n",
        "embedded_sequences = embedding_layer(sequence_input)\n",
        "context_vector, attention_weights = Attention(8)(embedded_sequences)\n",
        "\n",
        "dense1 = Dense(16, activation=\"relu\")(context_vector)\n",
        "dropout = Dropout(0.05)(dense1)\n",
        "preds = Dense(NUM_CLASS, activation='softmax')((dropout))\n",
        "model = Model(sequence_input, preds)\n",
        "\n",
        "model.compile(optimizer='adam', loss='KLD',metrics=['accuracy'])"
      ],
      "execution_count": 144,
      "outputs": []
    },
    {
      "cell_type": "code",
      "metadata": {
        "id": "dWfNLMEoO5Cg"
      },
      "source": [
        "# Model Bi-LSTM\n",
        "embedding_layer = Embedding(MAX_NUM_WORDS,\n",
        "                            EMBEDDING_DIM,\n",
        "                            embeddings_initializer='uniform',  # Constant(embedding_matrix)\n",
        "                            input_length=MAX_LEN,\n",
        "                            trainable=True)\n",
        "sequence_input = Input(shape=(MAX_LEN,), dtype='int32')\n",
        "embedded_sequences = embedding_layer(sequence_input)\n",
        "x = Bidirectional(LSTM(64, return_sequences=True))(embedded_sequences)\n",
        "x = Bidirectional(LSTM(64))(x)\n",
        "x = Dropout(0.5)(x)\n",
        "preds = Dense(NUM_CLASS, activation='softmax')(x)\n",
        "model = Model(sequence_input, preds)\n",
        "\n",
        "model.compile(optimizer='adam', loss='KLD',metrics=['accuracy'])"
      ],
      "execution_count": 157,
      "outputs": []
    },
    {
      "cell_type": "code",
      "metadata": {
        "id": "ber2NA24yCY9"
      },
      "source": [
        "model.summary()"
      ],
      "execution_count": null,
      "outputs": []
    },
    {
      "cell_type": "code",
      "metadata": {
        "colab": {
          "base_uri": "https://localhost:8080/"
        },
        "id": "WGzen0r0yCY9",
        "outputId": "545d1e4f-65c7-47d1-f053-d480a2c7c199"
      },
      "source": [
        "callbacks_list = [\n",
        "    ModelCheckpoint(\n",
        "        filepath='best_model.h5',\n",
        "        monitor='val_accuracy', mode='max', save_best_only=True, verbose=0),\n",
        "    EarlyStopping(monitor='val_loss', mode='min', verbose=1, patience=10)]\n",
        "\n",
        "custom_objects = {\"Attention\": Attention}\n",
        "\n",
        "history = model.fit(\n",
        "  train_padded,\n",
        "  y_train_hotvec,  \n",
        "  epochs=EPOCHS,\n",
        "  batch_size=512,\n",
        "  validation_split=0.1,\n",
        "  shuffle=True,\n",
        "  verbose=0,\n",
        "  callbacks=callbacks_list)\n",
        "  \n",
        "saved_model = load_model('best_model.h5', custom_objects)\n",
        "logits_pred = saved_model.predict(test_padded, batch_size=64, verbose=1)\n",
        "y_pred_bool = np.argmax(logits_pred, axis=1)"
      ],
      "execution_count": 159,
      "outputs": [
        {
          "output_type": "stream",
          "text": [
            "29/29 [==============================] - 3s 59ms/step\n"
          ],
          "name": "stdout"
        }
      ]
    },
    {
      "cell_type": "code",
      "metadata": {
        "colab": {
          "base_uri": "https://localhost:8080/"
        },
        "id": "XyR_72K-yCY9",
        "outputId": "fd879879-3a03-4647-9bd0-b044a90fe333"
      },
      "source": [
        "print(accuracy_score(y_test, y_pred_bool))\n",
        "print(classification_report(y_test, y_pred_bool))"
      ],
      "execution_count": 160,
      "outputs": [
        {
          "output_type": "stream",
          "text": [
            "0.7847336628226249\n",
            "              precision    recall  f1-score   support\n",
            "\n",
            "           0       0.80      0.75      0.78       912\n",
            "           1       0.77      0.82      0.79       909\n",
            "\n",
            "    accuracy                           0.78      1821\n",
            "   macro avg       0.79      0.78      0.78      1821\n",
            "weighted avg       0.79      0.78      0.78      1821\n",
            "\n"
          ],
          "name": "stdout"
        }
      ]
    },
    {
      "cell_type": "code",
      "metadata": {
        "colab": {
          "base_uri": "https://localhost:8080/",
          "height": 295
        },
        "id": "i-E3Z89yyCY-",
        "outputId": "806f00c6-c6b0-4f00-9bd0-f52c17c3220a"
      },
      "source": [
        "# Plot the training and validation accuracu and loss at each epoch\n",
        "loss = history.history['loss']\n",
        "val_loss = history.history['val_loss']\n",
        "epochs = range(1, len(loss) + 1)\n",
        "plt.plot(epochs, loss, 'y', label='Training loss')\n",
        "plt.plot(epochs, val_loss, 'r', label='Validation loss')\n",
        "plt.title('Training and validation loss')\n",
        "plt.xlabel('Epochs')\n",
        "plt.ylabel('Loss')\n",
        "plt.legend()\n",
        "plt.show()"
      ],
      "execution_count": 161,
      "outputs": [
        {
          "output_type": "display_data",
          "data": {
            "image/png": "[encoded data removed]",
            "text/plain": [
              "<Figure size 432x288 with 1 Axes>"
            ]
          },
          "metadata": {
            "tags": [],
            "needs_background": "light"
          }
        }
      ]
    },
    {
      "cell_type": "code",
      "metadata": {
        "colab": {
          "base_uri": "https://localhost:8080/",
          "height": 295
        },
        "id": "hZi1QVASyCY-",
        "outputId": "dadf744f-4f02-4901-bb04-316c71108ef5"
      },
      "source": [
        "acc = history.history['accuracy']\n",
        "val_acc = history.history['val_accuracy']\n",
        "plt.plot(epochs, acc, 'y', label='Training acc')\n",
        "plt.plot(epochs, val_acc, 'r', label='Validation acc')\n",
        "plt.title('Training and validation accuracy')\n",
        "plt.xlabel('Epochs')\n",
        "plt.ylabel('Accuracy')\n",
        "plt.legend()\n",
        "plt.show()"
      ],
      "execution_count": 162,
      "outputs": [
        {
          "output_type": "display_data",
          "data": {
            "image/png": "[encoded data removed]",
            "text/plain": [
              "<Figure size 432x288 with 1 Axes>"
            ]
          },
          "metadata": {
            "tags": [],
            "needs_background": "light"
          }
        }
      ]
    },
    {
      "cell_type": "markdown",
      "metadata": {
        "id": "kNH_AC-qyCY-"
      },
      "source": [
        "3rd step: Transformers models "
      ]
    },
    {
      "cell_type": "code",
      "metadata": {
        "id": "TqVyFHVoyCY-"
      },
      "source": [
        "categories = ['0','1']"
      ],
      "execution_count": null,
      "outputs": []
    },
    {
      "cell_type": "code",
      "metadata": {
        "id": "YRu06-PGyCY_"
      },
      "source": [
        "MODEL_NAME = 'bert-base-uncased'    # Select from HuggigFace model Hub \n",
        "t = text.Transformer(MODEL_NAME, maxlen=64, class_names=categories)   # maxlen: emotion = 64, SST-2 = 64\n",
        "trn = t.preprocess_train(x_train, y_train)\n",
        "val = t.preprocess_test(x_test, y_test)\n",
        "model = t.get_classifier()\n",
        "learner = ktrain.get_learner(model, train_data=trn, val_data=val, batch_size=32) # lower bs if OOM occurs\n",
        "learner.fit_onecycle(2e-5, 2)"
      ],
      "execution_count": null,
      "outputs": []
    },
    {
      "cell_type": "markdown",
      "metadata": {
        "id": "GT1IDKGwyCY_"
      },
      "source": [
        "4th step: DistillBERT"
      ]
    },
    {
      "cell_type": "code",
      "metadata": {
        "id": "gCLk0CBHyCY_"
      },
      "source": [
        "MODEL_NAME = 'distillbert'    # Select from HuggigFace model Hub \n",
        "t = text.Transformer(MODEL_NAME, maxlen=64, class_names=categories)   # maxlen: emotion = 64, SST-2 = 64\n",
        "trn = t.preprocess_train(x_train, y_train)\n",
        "val = t.preprocess_test(x_test, y_test)\n",
        "model = t.get_classifier()\n",
        "learner = ktrain.get_learner(model, train_data=trn, val_data=val, batch_size=32) # lower bs if OOM occurs\n",
        "learner.fit_onecycle(2e-5, 2)"
      ],
      "execution_count": null,
      "outputs": []
    },
    {
      "cell_type": "markdown",
      "metadata": {
        "id": "VrYbGFZryCZA"
      },
      "source": [
        "5th: Distill Roberta to a simpler student\n"
      ]
    },
    {
      "cell_type": "code",
      "metadata": {
        "id": "Kvljzq4uyCZA"
      },
      "source": [
        "MODEL_NAME = 'roberta'    # Select from HuggigFace model Hub \n",
        "t = text.Transformer(MODEL_NAME, maxlen=64, class_names=categories)   # maxlen: emotion = 64, SST-2 = 64\n",
        "trn = t.preprocess_train(x_train, y_train)\n",
        "val = t.preprocess_test(x_test, y_test)\n",
        "model = t.get_classifier()\n",
        "learner = ktrain.get_learner(model, train_data=trn, val_data=val, batch_size=32) # lower bs if OOM occurs\n",
        "learner.fit_onecycle(2e-5, 2)"
      ],
      "execution_count": null,
      "outputs": []
    },
    {
      "cell_type": "code",
      "metadata": {
        "id": "oQ69rrpgyCZA"
      },
      "source": [
        "# Load augmented data (un-labeled)\n",
        "aug_df = pd.read_csv('/gdrive/My Drive/DataSet/ED6/data_augmentation_ED6.csv')    # Provide augmented data file \n",
        "x_aug = aug_df.text.values"
      ],
      "execution_count": null,
      "outputs": []
    },
    {
      "cell_type": "code",
      "metadata": {
        "id": "3Qxuoyd9yCZA"
      },
      "source": [
        "# Psedu-label the aug data with RoBERTa\n",
        "predictor = ktrain.get_predictor(learner.model, preproc, batch_size=64)\n",
        "y_aug_hotvec = predictor.predict_proba(x_aug)"
      ],
      "execution_count": null,
      "outputs": []
    },
    {
      "cell_type": "code",
      "metadata": {
        "id": "a-dKTvqwyCZA"
      },
      "source": [
        "# Distill to MLP_Attn \n",
        "callbacks_list = [\n",
        "    ModelCheckpoint(\n",
        "        filepath='best_model.h5',\n",
        "        monitor='val_accuracy', mode='max', save_best_only=True, verbose=0),\n",
        "    EarlyStopping(monitor='val_loss', mode='min', verbose=1, patience=10)]\n",
        "\n",
        "custom_objects = {\"Attention\": Attention}\n",
        "\n",
        "history = model.fit(\n",
        "  aug_padded,\n",
        "  y_aug_hotvec,  \n",
        "  epochs=EPOCHS,\n",
        "  batch_size=512,\n",
        "  validation_split=0.1,\n",
        "  shuffle=True,\n",
        "  verbose=0,\n",
        "  callbacks=callbacks_list)\n",
        "  \n",
        "saved_model = load_model('best_model.h5', custom_objects)\n",
        "logits_pred = saved_model.predict(test_padded, batch_size=64, verbose=1)\n",
        "y_pred_bool = np.argmax(logits_pred, axis=1)"
      ],
      "execution_count": null,
      "outputs": []
    },
    {
      "cell_type": "code",
      "metadata": {
        "id": "e8HLAQ7MyCZA"
      },
      "source": [
        "# Evaluation \n",
        "print(accuracy_score(y_test, y_pred_bool))\n",
        "print(classification_report(y_test, y_pred_bool))"
      ],
      "execution_count": null,
      "outputs": []
    },
    {
      "cell_type": "markdown",
      "metadata": {
        "id": "Jl79JH0iR9ML"
      },
      "source": [
        "# Blog 3/3"
      ]
    },
    {
      "cell_type": "markdown",
      "metadata": {
        "id": "sDkSEr6kR9MQ"
      },
      "source": [
        "Load IMDB dataset"
      ]
    },
    {
      "cell_type": "code",
      "metadata": {
        "id": "QbW2EhIER9MR"
      },
      "source": [
        "!pip install datasets\n",
        "from datasets import load_dataset\n",
        "imdb_dataset = load_dataset('imdb')\n",
        "\n",
        "train_df = pd.DataFrame(list(zip(imdb_dataset['train']['text'], imdb_dataset['train']['label'])), \n",
        "               columns =['text', 'label'])\n",
        "\n",
        "test_df = pd.DataFrame(list(zip(imdb_dataset['test']['text'], imdb_dataset['test']['label'])), \n",
        "               columns =['text', 'label'])\n",
        "\n",
        "#train_df=train_df.sample(1000)\n",
        "\n",
        "x_train = train_df.text.values\n",
        "y_train = train_df.label.values\n",
        "\n",
        "x_test =  test_df.text.values\n",
        "y_test = test_df.label.values\n",
        "\n",
        "value2hot = {\n",
        "  0: [1,0],\n",
        "  1: [0,1]\n",
        "}\n",
        "\n",
        "y_train_hotvec = np.array([value2hot[l] for l in y_train])"
      ],
      "execution_count": null,
      "outputs": []
    },
    {
      "cell_type": "markdown",
      "metadata": {
        "id": "Cc3TmplIR9MS"
      },
      "source": [
        "1st  step: Set a baseline using a logistic regression model (TfIdf based)"
      ]
    },
    {
      "cell_type": "code",
      "metadata": {
        "id": "cXMgRo-WR9MT"
      },
      "source": [
        "model = make_pipeline(TfidfVectorizer(ngram_range=(1,1)), LogisticRegression(max_iter=200)).fit(x_train, y_train)\n",
        "predicted = model.predict(x_test)\n",
        "print(accuracy_score(y_test, predicted))\n",
        "print(matthews_corrcoef(y_test, predicted))\n",
        "print(classification_report(y_test, predicted))"
      ],
      "execution_count": null,
      "outputs": []
    },
    {
      "cell_type": "markdown",
      "metadata": {
        "id": "sHXwnacHR9MT"
      },
      "source": [
        "2nd step: Deep Learning baseline"
      ]
    },
    {
      "cell_type": "code",
      "metadata": {
        "id": "C0LNwfs2R9MT"
      },
      "source": [
        "NUM_CLASS = 2\n",
        "MAX_NUM_WORDS = 5000\n",
        "MAX_LEN = 256 \n",
        "EPOCHS = 15"
      ],
      "execution_count": null,
      "outputs": []
    },
    {
      "cell_type": "code",
      "metadata": {
        "id": "DCqpk8h9R9MT"
      },
      "source": [
        "from keras.preprocessing.text import Tokenizer\n",
        "from keras.preprocessing.sequence import pad_sequences\n",
        "from keras.layers import Embedding, GlobalAveragePooling1D, GlobalMaxPool1D, GlobalMaxPooling1D, Dense, Input, Conv1D, MaxPooling1D, Dropout, Bidirectional, LSTM, Concatenate, Flatten\n",
        "from keras.initializers import Constant\n",
        "from keras.models import Sequential, Model, load_model\n",
        "from keras.callbacks import EarlyStopping, ModelCheckpoint\n",
        "from sklearn.metrics import accuracy_score, f1_score, classification_report\n",
        "from matplotlib import pyplot as plt\n",
        "import tensorflow as tf"
      ],
      "execution_count": null,
      "outputs": []
    },
    {
      "cell_type": "code",
      "metadata": {
        "id": "npsfRWBeR9MU"
      },
      "source": [
        "# Tokenization Option A\n",
        "oov_token = '<UNK>'\n",
        "pad_type = 'post'\n",
        "trunc_type = 'post'\n",
        "\n",
        "# Avoid UNK words \n",
        "X = np.concatenate((x_train, x_test), axis=0)\n",
        "\n",
        "# Tokenize our training data\n",
        "tokenizer = Tokenizer(num_words=MAX_NUM_WORDS)\n",
        "tokenizer.fit_on_texts(X)\n",
        "\n",
        "# Get our training data word index\n",
        "word_index = tokenizer.word_index\n",
        "\n",
        "# Encode training data sentences into sequences\n",
        "train_sequences = tokenizer.texts_to_sequences(x_train)\n",
        "\n",
        "# Get max training sequence length\n",
        "  #maxlen = min(max_len_const, max([len(x) for x in train_sequences]))\n",
        "maxlen = MAX_LEN\n",
        "\n",
        "# Pad the training sequences\n",
        "train_padded = pad_sequences(train_sequences, padding=pad_type, truncating=trunc_type, maxlen=maxlen)\n",
        "\n",
        "# Encode test data sentences into sequences\n",
        "test_sequences = tokenizer.texts_to_sequences(x_test)\n",
        "test_padded = pad_sequences(test_sequences, padding=pad_type, truncating=trunc_type, maxlen=maxlen)"
      ],
      "execution_count": null,
      "outputs": []
    },
    {
      "cell_type": "code",
      "metadata": {
        "id": "Mx6_iT1QR9MV"
      },
      "source": [
        "# Tokenization Option B\n",
        "oov_token = '<UNK>'\n",
        "pad_type = 'post'\n",
        "trunc_type = 'post'\n",
        "\n",
        "# Tokenize our training data\n",
        "tokenizer = Tokenizer(num_words=MAX_NUM_WORDS, oov_token = '<UNK>')\n",
        "tokenizer.fit_on_texts(x_train)\n",
        "\n",
        "# Encode training data sentences into sequences\n",
        "train_sequences = tokenizer.texts_to_sequences(x_train)\n",
        "\n",
        "# Pad the training sequences\n",
        "train_padded = pad_sequences(train_sequences, padding=pad_type, truncating=trunc_type, maxlen=maxlen)\n",
        "\n",
        "# Encode test data sentences into sequences\n",
        "test_sequences = tokenizer.texts_to_sequences(x_test)\n",
        "\n",
        "# Pad the training sequences\n",
        "test_padded = pad_sequences(test_sequences, padding=pad_type, truncating=trunc_type, maxlen=maxlen)\n"
      ],
      "execution_count": null,
      "outputs": []
    },
    {
      "cell_type": "code",
      "metadata": {
        "id": "-3m17G54R9MV"
      },
      "source": [
        "from tensorflow.keras import layers\n",
        "\n",
        "class Attention(layers.Layer):\n",
        "    def __init__(self, units):\n",
        "        super(Attention, self).__init__()\n",
        "        self.units = units\n",
        "        self.W1 = Dense(units)\n",
        "        self.V = Dense(1)\n",
        "\n",
        "    def get_config(self):\n",
        "        return {\"units\": self.units}\n",
        " \n",
        "    def call(self, features):\n",
        "        score = tf.nn.tanh(self.W1(features))\n",
        "        attention_weights = tf.nn.softmax(self.V(score), axis=1)\n",
        "        context_vector = attention_weights * features\n",
        "        context_vector = tf.reduce_sum(context_vector, axis=1)\n",
        " \n",
        "        return context_vector, attention_weights"
      ],
      "execution_count": null,
      "outputs": []
    },
    {
      "cell_type": "code",
      "metadata": {
        "id": "lOAAqLz_R9MW"
      },
      "source": [
        "# Model MLP_Attn  \n",
        "embedding_layer = Embedding(MAX_NUM_WORDS,\n",
        "                            output_dim=16,\n",
        "                            embeddings_initializer='uniform',\n",
        "                            input_length=MAX_LEN,\n",
        "                            trainable=True)\n",
        "\n",
        "sequence_input = Input(shape=(MAX_LEN,), dtype='int32')\n",
        "embedded_sequences = embedding_layer(sequence_input)\n",
        "context_vector, attention_weights = Attention(8)(embedded_sequences)\n",
        "\n",
        "dense1 = Dense(16, activation=\"relu\")(context_vector)\n",
        "dropout = Dropout(0.05)(dense1)\n",
        "preds = Dense(NUM_CLASS, activation='softmax')((dropout))\n",
        "model = Model(sequence_input, preds)\n",
        "\n",
        "model.compile(optimizer='adam', loss='KLD',metrics=['accuracy'])"
      ],
      "execution_count": null,
      "outputs": []
    },
    {
      "cell_type": "code",
      "metadata": {
        "colab": {
          "base_uri": "https://localhost:8080/"
        },
        "id": "SwLCPcn7R9MW",
        "outputId": "8689ab37-106a-4c4e-c34c-1129eeb4542f"
      },
      "source": [
        "model.summary()"
      ],
      "execution_count": null,
      "outputs": [
        {
          "output_type": "stream",
          "text": [
            "Model: \"model_13\"\n",
            "_________________________________________________________________\n",
            "Layer (type)                 Output Shape              Param #   \n",
            "=================================================================\n",
            "input_14 (InputLayer)        [(None, 64)]              0         \n",
            "_________________________________________________________________\n",
            "embedding_17 (Embedding)     (None, 64, 16)            80000     \n",
            "_________________________________________________________________\n",
            "attention_26 (Attention)     ((None, 16), (None, 64, 1 145       \n",
            "_________________________________________________________________\n",
            "dense_88 (Dense)             (None, 16)                272       \n",
            "_________________________________________________________________\n",
            "dropout_13 (Dropout)         (None, 16)                0         \n",
            "_________________________________________________________________\n",
            "dense_89 (Dense)             (None, 6)                 102       \n",
            "=================================================================\n",
            "Total params: 80,519\n",
            "Trainable params: 80,519\n",
            "Non-trainable params: 0\n",
            "_________________________________________________________________\n"
          ],
          "name": "stdout"
        }
      ]
    },
    {
      "cell_type": "code",
      "metadata": {
        "colab": {
          "base_uri": "https://localhost:8080/"
        },
        "id": "oYVJ8xWSR9MW",
        "outputId": "eb97ee73-43df-467e-a052-845c6477eac7"
      },
      "source": [
        "callbacks_list = [\n",
        "    ModelCheckpoint(\n",
        "        filepath='best_model.h5',\n",
        "        monitor='val_accuracy', mode='max', save_best_only=True, verbose=0),\n",
        "    EarlyStopping(monitor='val_loss', mode='min', verbose=1, patience=10)]\n",
        "\n",
        "custom_objects = {\"Attention\": Attention}\n",
        "\n",
        "history = model.fit(\n",
        "  train_padded,\n",
        "  y_train_hotvec,  \n",
        "  epochs=EPOCHS,\n",
        "  batch_size=512,\n",
        "  validation_split=0.1,\n",
        "  shuffle=True,\n",
        "  verbose=0,\n",
        "  callbacks=callbacks_list)\n",
        "  \n",
        "saved_model = load_model('best_model.h5', custom_objects)\n",
        "logits_pred = saved_model.predict(test_padded, batch_size=64, verbose=1)\n",
        "y_pred_bool = np.argmax(logits_pred, axis=1)\n"
      ],
      "execution_count": null,
      "outputs": [
        {
          "output_type": "stream",
          "text": [
            "32/32 [==============================] - 0s 1ms/step\n"
          ],
          "name": "stdout"
        }
      ]
    },
    {
      "cell_type": "code",
      "metadata": {
        "colab": {
          "base_uri": "https://localhost:8080/"
        },
        "id": "6U_9dStYR9MW",
        "outputId": "6a6f5cd2-df6f-44a0-bf6a-c9e396bcab2d"
      },
      "source": [
        "print(accuracy_score(y_test, y_pred_bool))\n",
        "print(classification_report(y_test, y_pred_bool))"
      ],
      "execution_count": null,
      "outputs": [
        {
          "output_type": "stream",
          "text": [
            "0.901\n",
            "              precision    recall  f1-score   support\n",
            "\n",
            "           0       0.95      0.93      0.94       581\n",
            "           1       0.92      0.93      0.92       695\n",
            "           2       0.79      0.78      0.78       159\n",
            "           3       0.89      0.90      0.89       275\n",
            "           4       0.87      0.91      0.89       224\n",
            "           5       0.69      0.62      0.66        66\n",
            "\n",
            "    accuracy                           0.90      2000\n",
            "   macro avg       0.85      0.85      0.85      2000\n",
            "weighted avg       0.90      0.90      0.90      2000\n",
            "\n"
          ],
          "name": "stdout"
        }
      ]
    },
    {
      "cell_type": "code",
      "metadata": {
        "colab": {
          "base_uri": "https://localhost:8080/",
          "height": 295
        },
        "id": "AZ-CrkCAR9MX",
        "outputId": "5944fe2d-a1eb-42f9-856f-45afb50270d3"
      },
      "source": [
        "# Plot the training and validation accuracu and loss at each epoch\n",
        "loss = history.history['loss']\n",
        "val_loss = history.history['val_loss']\n",
        "epochs = range(1, len(loss) + 1)\n",
        "plt.plot(epochs, loss, 'y', label='Training loss')\n",
        "plt.plot(epochs, val_loss, 'r', label='Validation loss')\n",
        "plt.title('Training and validation loss')\n",
        "plt.xlabel('Epochs')\n",
        "plt.ylabel('Loss')\n",
        "plt.legend()\n",
        "plt.show()"
      ],
      "execution_count": null,
      "outputs": [
        {
          "output_type": "display_data",
          "data": {
            "image/png": "[encoded data removed]",
            "text/plain": [
              "<Figure size 432x288 with 1 Axes>"
            ]
          },
          "metadata": {
            "tags": [],
            "needs_background": "light"
          }
        }
      ]
    },
    {
      "cell_type": "code",
      "metadata": {
        "colab": {
          "base_uri": "https://localhost:8080/",
          "height": 295
        },
        "id": "XYuCJxRSR9MX",
        "outputId": "311042eb-8b63-4414-ea15-1d5ec9f3a7c7"
      },
      "source": [
        "acc = history.history['accuracy']\n",
        "val_acc = history.history['val_accuracy']\n",
        "plt.plot(epochs, acc, 'y', label='Training acc')\n",
        "plt.plot(epochs, val_acc, 'r', label='Validation acc')\n",
        "plt.title('Training and validation accuracy')\n",
        "plt.xlabel('Epochs')\n",
        "plt.ylabel('Accuracy')\n",
        "plt.legend()\n",
        "plt.show()"
      ],
      "execution_count": null,
      "outputs": [
        {
          "output_type": "display_data",
          "data": {
            "image/png": "[encoded data removed]",
            "text/plain": [
              "<Figure size 432x288 with 1 Axes>"
            ]
          },
          "metadata": {
            "tags": [],
            "needs_background": "light"
          }
        }
      ]
    },
    {
      "cell_type": "markdown",
      "metadata": {
        "id": "5iGKfKNKR9MY"
      },
      "source": [
        "3rd step: Transformers models "
      ]
    },
    {
      "cell_type": "code",
      "metadata": {
        "id": "J19oRPbyR9MY"
      },
      "source": [
        "categories = ['0','1','2','3','4','5']"
      ],
      "execution_count": null,
      "outputs": []
    },
    {
      "cell_type": "code",
      "metadata": {
        "id": "RVzvpVouR9MY"
      },
      "source": [
        "MODEL_NAME = 'bert-base-uncased'    # Select from HuggigFace model Hub \n",
        "t = text.Transformer(MODEL_NAME, maxlen=64, class_names=categories)   # maxlen: emotion = 64, SST-2 = 64\n",
        "trn = t.preprocess_train(x_train, y_train)\n",
        "val = t.preprocess_test(x_test, y_test)\n",
        "model = t.get_classifier()\n",
        "learner = ktrain.get_learner(model, train_data=trn, val_data=val, batch_size=32) # lower bs if OOM occurs\n",
        "learner.fit_onecycle(2e-5, 2)"
      ],
      "execution_count": null,
      "outputs": []
    },
    {
      "cell_type": "markdown",
      "metadata": {
        "id": "tUaMfLixR9MY"
      },
      "source": [
        "4th step: DistillBERT"
      ]
    },
    {
      "cell_type": "code",
      "metadata": {
        "id": "jl7nwACUR9MY"
      },
      "source": [
        "MODEL_NAME = 'distilbert-base-uncased'    # Select from HuggigFace model Hub \n",
        "t = text.Transformer(MODEL_NAME, maxlen=64, class_names=categories)   # maxlen: emotion = 64, SST-2 = 64\n",
        "trn = t.preprocess_train(x_train, y_train)\n",
        "val = t.preprocess_test(x_test, y_test)\n",
        "model = t.get_classifier()\n",
        "learner = ktrain.get_learner(model, train_data=trn, val_data=val, batch_size=32) # lower bs if OOM occurs\n",
        "learner.fit_onecycle(2e-5, 2)"
      ],
      "execution_count": null,
      "outputs": []
    },
    {
      "cell_type": "markdown",
      "metadata": {
        "id": "_wGUysXWR9MZ"
      },
      "source": [
        "5th: Distill Roberta to a simpler student\n"
      ]
    },
    {
      "cell_type": "code",
      "metadata": {
        "id": "fdr84Dt2R9MZ"
      },
      "source": [
        "MODEL_NAME = 'roberta-base'    # Select from HuggigFace model Hub \n",
        "t = text.Transformer(MODEL_NAME, maxlen=64, class_names=categories)   # maxlen: emotion = 64, SST-2 = 64\n",
        "trn = t.preprocess_train(x_train, y_train)\n",
        "val = t.preprocess_test(x_test, y_test)\n",
        "model = t.get_classifier()\n",
        "learner = ktrain.get_learner(model, train_data=trn, val_data=val, batch_size=32) # lower bs if OOM occurs\n",
        "learner.fit_onecycle(2e-5, 2)"
      ],
      "execution_count": null,
      "outputs": []
    },
    {
      "cell_type": "code",
      "metadata": {
        "id": "9g-OTFRkR9MZ"
      },
      "source": [
        "# Load augmented data (un-labeled)\n",
        "aug_df = train_df    # Provide 25000 training data \n",
        "x_aug = aug_df.text.values"
      ],
      "execution_count": null,
      "outputs": []
    },
    {
      "cell_type": "code",
      "metadata": {
        "id": "MUFLEsj3R9MZ"
      },
      "source": [
        "# Psedu-label the aug data with RoBERTa\n",
        "predictor = ktrain.get_predictor(learner.model, preproc, batch_size=64)\n",
        "y_aug_hotvec = predictor.predict_proba(x_aug)"
      ],
      "execution_count": null,
      "outputs": []
    },
    {
      "cell_type": "code",
      "metadata": {
        "id": "Anfe63wZR9MZ"
      },
      "source": [
        "# Distill to MLP_Attn \n",
        "callbacks_list = [\n",
        "    ModelCheckpoint(\n",
        "        filepath='best_model.h5',\n",
        "        monitor='val_accuracy', mode='max', save_best_only=True, verbose=0),\n",
        "    EarlyStopping(monitor='val_loss', mode='min', verbose=1, patience=10)]\n",
        "\n",
        "custom_objects = {\"Attention\": Attention}\n",
        "\n",
        "history = model.fit(\n",
        "  aug_padded,\n",
        "  y_aug_hotvec,  \n",
        "  epochs=EPOCHS,\n",
        "  batch_size=512,\n",
        "  validation_split=0.1,\n",
        "  shuffle=True,\n",
        "  verbose=0,\n",
        "  callbacks=callbacks_list)\n",
        "  \n",
        "saved_model = load_model('best_model.h5', custom_objects)\n",
        "logits_pred = saved_model.predict(test_padded, batch_size=64, verbose=1)\n",
        "y_pred_bool = np.argmax(logits_pred, axis=1)"
      ],
      "execution_count": null,
      "outputs": []
    },
    {
      "cell_type": "code",
      "metadata": {
        "id": "9XB1oZGVR9Ma"
      },
      "source": [
        "# Evaluation \n",
        "print(accuracy_score(y_test, y_pred_bool))\n",
        "print(classification_report(y_test, y_pred_bool))"
      ],
      "execution_count": null,
      "outputs": []
    },
    {
      "cell_type": "markdown",
      "metadata": {
        "id": "qf2KWYXESc4Q"
      },
      "source": [
        "WOS"
      ]
    }
  ]
}